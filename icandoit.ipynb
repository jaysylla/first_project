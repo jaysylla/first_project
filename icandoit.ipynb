{
 "cells": [
  {
   "cell_type": "code",
   "execution_count": 1,
   "id": "597527e4",
   "metadata": {},
   "outputs": [
    {
     "name": "stdout",
     "output_type": "stream",
     "text": [
      "Hello World\n"
     ]
    }
   ],
   "source": [
    "print (\"Hello World\")"
   ]
  },
  {
   "cell_type": "code",
   "execution_count": 2,
   "id": "b1d64f10",
   "metadata": {},
   "outputs": [
    {
     "name": "stdout",
     "output_type": "stream",
     "text": [
      "75\n"
     ]
    }
   ],
   "source": [
    "value1 = 20\n",
    "value2 = 55\n",
    "total = value1 + value2\n",
    "print(total)\n"
   ]
  },
  {
   "cell_type": "code",
   "execution_count": 3,
   "id": "e48caaa6",
   "metadata": {},
   "outputs": [
    {
     "name": "stdout",
     "output_type": "stream",
     "text": [
      "415\n"
     ]
    }
   ],
   "source": [
    "num1 = input(\"Enter first number: \")\n",
    "num2 = input(\"Enter second number: \")\n",
    "total = int(num1) + int(num2)\n",
    "print(total)"
   ]
  },
  {
   "cell_type": "code",
   "execution_count": 5,
   "id": "3a00362b",
   "metadata": {},
   "outputs": [
    {
     "name": "stdout",
     "output_type": "stream",
     "text": [
      "710\n"
     ]
    }
   ],
   "source": [
    "num1 = input(\"Enter first number: \")\n",
    "num2 = input(\"Enter second number: \")\n",
    "num3= input(\"Enter third number: \")\n",
    "total = int(num1) + int(num2) + int(num3)\n",
    "print(total)"
   ]
  },
  {
   "cell_type": "code",
   "execution_count": 6,
   "id": "2f6ee302",
   "metadata": {},
   "outputs": [
    {
     "name": "stdout",
     "output_type": "stream",
     "text": [
      "440\n",
      "146.66666666666666\n"
     ]
    }
   ],
   "source": [
    "num1 = int(input(\"Enter first number: \"))\n",
    "num2 = int(input(\"Enter second number: \"))\n",
    "num3= int(input(\"Enter third number: \"))\n",
    "total = int(num1) + int(num2) + int(num3)\n",
    "print(total)\n",
    "average = total / 3\n",
    "print(average)"
   ]
  },
  {
   "cell_type": "code",
   "execution_count": 12,
   "id": "266fc31c",
   "metadata": {},
   "outputs": [
    {
     "name": "stdout",
     "output_type": "stream",
     "text": [
      "Janan\n",
      "Janan\n",
      "Janan\n",
      "Janan\n",
      "Janan\n",
      "Janan\n",
      "Janan\n",
      "Janan\n",
      "Janan\n",
      "Janan\n",
      "Janan\n",
      "Janan\n",
      "Janan\n",
      "Janan\n",
      "Janan\n",
      "Janan\n",
      "Janan\n",
      "Janan\n",
      "Janan\n",
      "Janan\n"
     ]
    }
   ],
   "source": [
    "my_name = 'Janan'\n",
    "for name in range(20):\n",
    "    print(my_name)"
   ]
  },
  {
   "cell_type": "code",
   "execution_count": 13,
   "id": "eff2c9f5",
   "metadata": {},
   "outputs": [],
   "source": [
    "def lb_to_kg(pounds):\n",
    "    kilograms = pounds / 2.2\n",
    "    return kilograms"
   ]
  }
 ],
 "metadata": {
  "kernelspec": {
   "display_name": "base",
   "language": "python",
   "name": "python3"
  },
  "language_info": {
   "codemirror_mode": {
    "name": "ipython",
    "version": 3
   },
   "file_extension": ".py",
   "mimetype": "text/x-python",
   "name": "python",
   "nbconvert_exporter": "python",
   "pygments_lexer": "ipython3",
   "version": "3.12.7"
  }
 },
 "nbformat": 4,
 "nbformat_minor": 5
}

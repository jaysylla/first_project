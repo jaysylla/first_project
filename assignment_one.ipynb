{
 "cells": [
  {
   "cell_type": "code",
   "execution_count": null,
   "id": "8b1955f2",
   "metadata": {},
   "outputs": [],
   "source": [
    "## Stimulating rolling a dice\n",
    "import random\n",
    "input(\"Press enter to roll the dice\")\n",
    "dice = random.randint(1, 6)\n",
    "## The random module is used to generate random numbers\n",
    "print(\"You rolled a \" + str(dice))\n",
    "## Concatenate the string with the number\n",
    "## The str() function is used to convert the number to a string\n",
    "answer = input(\"Do you want to roll again? Yes or No: \")\n",
    "## Ask the user if they want to roll again\n",
    "while answer.lower() == \"yes\":\n",
    "   dice = random.randint(1, 6)\n",
    "   print(\"You rolled a \" + str(dice))\n",
    "   answer = input(\"Do you want to roll again? Yes or No: \")\n",
    "## Loop until the user enters \"no\"\n",
    "print(\"Thank you for playing!\")"
   ]
  }
 ],
 "metadata": {
  "kernelspec": {
   "display_name": "base",
   "language": "python",
   "name": "python3"
  },
  "language_info": {
   "codemirror_mode": {
    "name": "ipython",
    "version": 3
   },
   "file_extension": ".py",
   "mimetype": "text/x-python",
   "name": "python",
   "nbconvert_exporter": "python",
   "pygments_lexer": "ipython3",
   "version": "3.12.7"
  }
 },
 "nbformat": 4,
 "nbformat_minor": 5
}

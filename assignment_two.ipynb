{
 "cells": [
  {
   "cell_type": "code",
   "execution_count": null,
   "id": "49c39e9f",
   "metadata": {},
   "outputs": [],
   "source": [
    "import random\n",
    "## The game begins\n",
    "input(\"Press Enter to start the game\")\n",
    "number = random.randint(1, 50)\n",
    "##  The random module is used to generate random numbers\n",
    "while True:\n",
    "   guess = int(input(\"Guess a number between 1 and 50: \"))\n",
    "   if guess == number:\n",
    "       print(\"You guessed it right!\")\n",
    "       break\n",
    "##  If the user guesses the right number, the code breaks\n",
    "   elif guess < number:\n",
    "       print(\"Too low, try again!\")\n",
    "   else:\n",
    "       print(\"Too high, try again!\")\n",
    "print(f\"The number was {number}\")\n",
    "## Prints the number for the user\n"
   ]
  }
 ],
 "metadata": {
  "kernelspec": {
   "display_name": "base",
   "language": "python",
   "name": "python3"
  },
  "language_info": {
   "codemirror_mode": {
    "name": "ipython",
    "version": 3
   },
   "file_extension": ".py",
   "mimetype": "text/x-python",
   "name": "python",
   "nbconvert_exporter": "python",
   "pygments_lexer": "ipython3",
   "version": "3.12.7"
  }
 },
 "nbformat": 4,
 "nbformat_minor": 5
}

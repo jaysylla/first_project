{
 "cells": [
  {
   "cell_type": "code",
   "execution_count": 1,
   "id": "96671cac",
   "metadata": {},
   "outputs": [],
   "source": [
    "def lb_to_kg(pounds):\n",
    "    kilograms = pounds / 2.2\n",
    "    return kilograms"
   ]
  },
  {
   "cell_type": "code",
   "execution_count": 3,
   "id": "483e9e74",
   "metadata": {},
   "outputs": [
    {
     "name": "stdout",
     "output_type": "stream",
     "text": [
      "100 farenheit is 37.77777777777778 celcius\n"
     ]
    }
   ],
   "source": [
    "#degree to celcius is farenheit - 32 * 5/9\n",
    "def farenheit_to_celcius(farenheit):\n",
    "    celcius = (farenheit - 32) * 5 / 9\n",
    "    return celcius\n",
    "farenheit = 100\n",
    "celcius = farenheit_to_celcius(farenheit)\n",
    "print(f\"{farenheit} farenheit is {celcius} celcius\")"
   ]
  }
 ],
 "metadata": {
  "kernelspec": {
   "display_name": "base",
   "language": "python",
   "name": "python3"
  },
  "language_info": {
   "codemirror_mode": {
    "name": "ipython",
    "version": 3
   },
   "file_extension": ".py",
   "mimetype": "text/x-python",
   "name": "python",
   "nbconvert_exporter": "python",
   "pygments_lexer": "ipython3",
   "version": "3.12.7"
  }
 },
 "nbformat": 4,
 "nbformat_minor": 5
}
